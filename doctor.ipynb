{
 "cells": [
  {
   "cell_type": "code",
   "execution_count": 6,
   "id": "4b663747",
   "metadata": {},
   "outputs": [
    {
     "ename": "KeyError",
     "evalue": "0",
     "output_type": "error",
     "traceback": [
      "\u001b[1;31m---------------------------------------------------------------------------\u001b[0m",
      "\u001b[1;31mKeyError\u001b[0m                                  Traceback (most recent call last)",
      "\u001b[1;32m~\\AppData\\Local\\Temp/ipykernel_8808/952874694.py\u001b[0m in \u001b[0;36m<module>\u001b[1;34m\u001b[0m\n\u001b[0;32m      1\u001b[0m \u001b[1;32mimport\u001b[0m \u001b[0mjoblib\u001b[0m\u001b[1;33m\u001b[0m\u001b[1;33m\u001b[0m\u001b[0m\n\u001b[1;32m----> 2\u001b[1;33m \u001b[0mlogistic_regression_model\u001b[0m \u001b[1;33m=\u001b[0m \u001b[0mjoblib\u001b[0m\u001b[1;33m.\u001b[0m\u001b[0mload\u001b[0m\u001b[1;33m(\u001b[0m\u001b[1;34m\"LogisticRegression_model.pkl\"\u001b[0m\u001b[1;33m)\u001b[0m\u001b[1;33m\u001b[0m\u001b[1;33m\u001b[0m\u001b[0m\n\u001b[0m",
      "\u001b[1;32m~\\anaconda3\\lib\\site-packages\\joblib\\numpy_pickle.py\u001b[0m in \u001b[0;36mload\u001b[1;34m(filename, mmap_mode)\u001b[0m\n\u001b[0;32m    585\u001b[0m                     \u001b[1;32mreturn\u001b[0m \u001b[0mload_compatibility\u001b[0m\u001b[1;33m(\u001b[0m\u001b[0mfobj\u001b[0m\u001b[1;33m)\u001b[0m\u001b[1;33m\u001b[0m\u001b[1;33m\u001b[0m\u001b[0m\n\u001b[0;32m    586\u001b[0m \u001b[1;33m\u001b[0m\u001b[0m\n\u001b[1;32m--> 587\u001b[1;33m                 \u001b[0mobj\u001b[0m \u001b[1;33m=\u001b[0m \u001b[0m_unpickle\u001b[0m\u001b[1;33m(\u001b[0m\u001b[0mfobj\u001b[0m\u001b[1;33m,\u001b[0m \u001b[0mfilename\u001b[0m\u001b[1;33m,\u001b[0m \u001b[0mmmap_mode\u001b[0m\u001b[1;33m)\u001b[0m\u001b[1;33m\u001b[0m\u001b[1;33m\u001b[0m\u001b[0m\n\u001b[0m\u001b[0;32m    588\u001b[0m     \u001b[1;32mreturn\u001b[0m \u001b[0mobj\u001b[0m\u001b[1;33m\u001b[0m\u001b[1;33m\u001b[0m\u001b[0m\n",
      "\u001b[1;32m~\\anaconda3\\lib\\site-packages\\joblib\\numpy_pickle.py\u001b[0m in \u001b[0;36m_unpickle\u001b[1;34m(fobj, filename, mmap_mode)\u001b[0m\n\u001b[0;32m    504\u001b[0m     \u001b[0mobj\u001b[0m \u001b[1;33m=\u001b[0m \u001b[1;32mNone\u001b[0m\u001b[1;33m\u001b[0m\u001b[1;33m\u001b[0m\u001b[0m\n\u001b[0;32m    505\u001b[0m     \u001b[1;32mtry\u001b[0m\u001b[1;33m:\u001b[0m\u001b[1;33m\u001b[0m\u001b[1;33m\u001b[0m\u001b[0m\n\u001b[1;32m--> 506\u001b[1;33m         \u001b[0mobj\u001b[0m \u001b[1;33m=\u001b[0m \u001b[0munpickler\u001b[0m\u001b[1;33m.\u001b[0m\u001b[0mload\u001b[0m\u001b[1;33m(\u001b[0m\u001b[1;33m)\u001b[0m\u001b[1;33m\u001b[0m\u001b[1;33m\u001b[0m\u001b[0m\n\u001b[0m\u001b[0;32m    507\u001b[0m         \u001b[1;32mif\u001b[0m \u001b[0munpickler\u001b[0m\u001b[1;33m.\u001b[0m\u001b[0mcompat_mode\u001b[0m\u001b[1;33m:\u001b[0m\u001b[1;33m\u001b[0m\u001b[1;33m\u001b[0m\u001b[0m\n\u001b[0;32m    508\u001b[0m             warnings.warn(\"The file '%s' has been generated with a \"\n",
      "\u001b[1;32m~\\anaconda3\\lib\\pickle.py\u001b[0m in \u001b[0;36mload\u001b[1;34m(self)\u001b[0m\n\u001b[0;32m   1210\u001b[0m                     \u001b[1;32mraise\u001b[0m \u001b[0mEOFError\u001b[0m\u001b[1;33m\u001b[0m\u001b[1;33m\u001b[0m\u001b[0m\n\u001b[0;32m   1211\u001b[0m                 \u001b[1;32massert\u001b[0m \u001b[0misinstance\u001b[0m\u001b[1;33m(\u001b[0m\u001b[0mkey\u001b[0m\u001b[1;33m,\u001b[0m \u001b[0mbytes_types\u001b[0m\u001b[1;33m)\u001b[0m\u001b[1;33m\u001b[0m\u001b[1;33m\u001b[0m\u001b[0m\n\u001b[1;32m-> 1212\u001b[1;33m                 \u001b[0mdispatch\u001b[0m\u001b[1;33m[\u001b[0m\u001b[0mkey\u001b[0m\u001b[1;33m[\u001b[0m\u001b[1;36m0\u001b[0m\u001b[1;33m]\u001b[0m\u001b[1;33m]\u001b[0m\u001b[1;33m(\u001b[0m\u001b[0mself\u001b[0m\u001b[1;33m)\u001b[0m\u001b[1;33m\u001b[0m\u001b[1;33m\u001b[0m\u001b[0m\n\u001b[0m\u001b[0;32m   1213\u001b[0m         \u001b[1;32mexcept\u001b[0m \u001b[0m_Stop\u001b[0m \u001b[1;32mas\u001b[0m \u001b[0mstopinst\u001b[0m\u001b[1;33m:\u001b[0m\u001b[1;33m\u001b[0m\u001b[1;33m\u001b[0m\u001b[0m\n\u001b[0;32m   1214\u001b[0m             \u001b[1;32mreturn\u001b[0m \u001b[0mstopinst\u001b[0m\u001b[1;33m.\u001b[0m\u001b[0mvalue\u001b[0m\u001b[1;33m\u001b[0m\u001b[1;33m\u001b[0m\u001b[0m\n",
      "\u001b[1;31mKeyError\u001b[0m: 0"
     ]
    }
   ],
   "source": [
    "import joblib\n",
    "logistic_regression_model = joblib.load(\"LogisticRegression_model.pkl\")\n",
    "naive_bayes_model = joblib.load(\"NaiveBayes_model.pkl\")"
   ]
  },
  {
   "cell_type": "code",
   "execution_count": 4,
   "id": "b028751c",
   "metadata": {},
   "outputs": [
    {
     "name": "stdout",
     "output_type": "stream",
     "text": [
      "Requirement already satisfied: joblib in c:\\users\\admin\\anaconda3\\lib\\site-packages (1.1.0)\n",
      "Note: you may need to restart the kernel to use updated packages.\n"
     ]
    }
   ],
   "source": [
    "pip install joblib"
   ]
  },
  {
   "cell_type": "code",
   "execution_count": null,
   "id": "6d50b8bd",
   "metadata": {},
   "outputs": [],
   "source": [
    "import pandas as pd"
   ]
  },
  {
   "cell_type": "code",
   "execution_count": 3,
   "id": "b3cf6eb9",
   "metadata": {},
   "outputs": [
    {
     "name": "stdout",
     "output_type": "stream",
     "text": [
      "Họ tên bệnh nhân: Vũ Trọng Sinh\n",
      "Địa chỉ: HVNH\n",
      "Tuổi: 34\n",
      "Giới tính (Nam = 0/Nữ = 1): 0\n"
     ]
    }
   ],
   "source": [
    "name = input(\"Họ tên bệnh nhân: \")\n",
    "add = input(\"Địa chỉ: \")\n",
    "age = int(input(\"Tuổi: \"))\n",
    "sex = int(input(\"Giới tính (Nam = 0/Nữ = 1): \"))"
   ]
  },
  {
   "cell_type": "code",
   "execution_count": 4,
   "id": "25cb230c",
   "metadata": {},
   "outputs": [
    {
     "name": "stdout",
     "output_type": "stream",
     "text": [
      "Loại đau ngực: 2\n",
      "resting blood pressure: 118\n",
      "Cholesterol huyết thanh tính bằng mg/dl: 210\n",
      "Đường huyết lúc đói > 120 mg/dl: 0\n",
      "Kết quả điện tâm đồ lúc nghỉ (giá trị 0,1,2): 0\n",
      "Nhịp tim tối đa đạt được: 192\n",
      "ST chênh xuống do gắng sức so với nghỉ ngơi: 0\n",
      "ST chênh xuống do gắng sức so với nghỉ ngơi: 0.7\n",
      "độ dốc của đoạn ST tập thể dục đỉnh: 1\n",
      "Số lượng mạch chính (0-3) được ánh xạ bằng phương pháp soi huỳnh quang: 0\n",
      "thallium(3 = bình thường; 6 = tổn thương cố định trong mạch máu của cơ tim, 7 = tổn thương tạm thời hoặc khuyết tật trong mạch máu của cơ tim): 3\n"
     ]
    }
   ],
   "source": [
    "chest_pain_type = int(input(\"Loại đau ngực: \"))\n",
    "resting_blood_pressure = int(input(\"resting blood pressure: \"))\n",
    "serum_cholestoral = int(input(\"Cholesterol huyết thanh tính bằng mg/dl: \"))\n",
    "fasting_blood_sugar = int(input(\"Đường huyết lúc đói > 120 mg/dl: \"))\n",
    "resting_electrocardiographic_results = int(input(\"Kết quả điện tâm đồ lúc nghỉ (giá trị 0,1,2): \"))\n",
    "max_heart_rate = int(input(\"Nhịp tim tối đa đạt được: \"))\n",
    "exercise_induced_angina = int(input(\"ST chênh xuống do gắng sức so với nghỉ ngơi: \"))\n",
    "oldpeak = float(input(\"ST chênh xuống do gắng sức so với nghỉ ngơi: \"))\n",
    "ST_segment = int(input(\"độ dốc của đoạn ST tập thể dục đỉnh: \"))\n",
    "major_vessels = int(input(\"Số lượng mạch chính (0-3) được ánh xạ bằng phương pháp soi huỳnh quang: \"))\n",
    "thal = int(input(\"thallium(3 = bình thường; 6 = tổn thương cố định trong mạch máu của cơ tim, 7 = tổn thương tạm thời hoặc khuyết tật trong mạch máu của cơ tim): \"))"
   ]
  },
  {
   "cell_type": "code",
   "execution_count": 12,
   "id": "beee4a9f",
   "metadata": {},
   "outputs": [],
   "source": [
    "input_data = pd.DataFrame({\n",
    "    'age' : [age],\n",
    "    'sex_': [sex],\n",
    "    'chest_pain_type': [chest_pain_type],\n",
    "    'resting_blood_pressure': [resting_blood_pressure],\n",
    "    'serum_cholestoral': [serum_cholestoral],\n",
    "    'fasting_blood_sugar': [fasting_blood_sugar],\n",
    "    'resting_electrocardiographic_results': [resting_electrocardiographic_results],\n",
    "    'max_heart_rate': [max_heart_rate],\n",
    "    'exercise_induced_angina': [exercise_induced_angina],\n",
    "    'oldpeak': [oldpeak],\n",
    "    'ST_segment': [ST_segment],\n",
    "    'major_vessels': [major_vessels],\n",
    "    'thal': [thal]\n",
    "})"
   ]
  },
  {
   "cell_type": "code",
   "execution_count": 17,
   "id": "774c3f21",
   "metadata": {},
   "outputs": [],
   "source": [
    "log_predictions = logistic_regression_model.predict(input_data)\n",
    "nb_predictions = logistic_regression_model.predict(input_data)"
   ]
  },
  {
   "cell_type": "code",
   "execution_count": 32,
   "id": "5f5793f6",
   "metadata": {},
   "outputs": [],
   "source": [
    "thal_mapping = {\n",
    "    3: \"Bình thường\",\n",
    "    6: \"Tổn thương cố định trong mạch máu của cơ tim\",\n",
    "    7: \"Tổn thương tạm thời hoặc khuyết tật trong mạch máu của cơ tim\"\n",
    "}"
   ]
  },
  {
   "cell_type": "code",
   "execution_count": 35,
   "id": "6cee5cfc",
   "metadata": {},
   "outputs": [
    {
     "name": "stdout",
     "output_type": "stream",
     "text": [
      "Hồ sơ bệnh nhân\n",
      "Họ và tên:  Vũ Trọng Sinh\n",
      "Địa chỉ:  HVNH\n",
      "Tuổi:  34\n",
      "Giới tính: Nam\n",
      "Loại đau ngực:  2\n",
      "Huyết áp khi nghỉ ngơi:  118\n",
      "Cholesterol huyết thanh tính bằng mg/dl: 210\n",
      "Đường huyết lúc đói > 120 mg/dl:  0\n",
      "Kết quả điện tâm đồ lúc nghỉ:  0\n",
      "Nhịp tim tối đa đạt được:  192\n",
      "ST chênh xuống do gắng sức so với nghỉ ngơi: 0\n",
      "ST chênh xuống do gắng sức so với nghỉ ngơi:  0.7\n",
      "độ dốc của đoạn ST tập thể dục đỉnh:  1\n",
      "Số lượng mạch chính (0-3) được ánh xạ bằng phương pháp soi huỳnh quang:  0\n",
      "Thallium: Bình thường\n",
      "------------------------------------------------------------------------------\n",
      "Chẩn đoán của bác sĩ Hồi quy\n",
      "Có khả năng không bị bệnh tim\n",
      "------------------------------------------------------------------------------\n",
      "Chẩn đoán của bác sĩ Bay ét\n",
      "Có khả năng không bị bệnh tim\n"
     ]
    }
   ],
   "source": [
    "print(\"Hồ sơ bệnh nhân\")\n",
    "print(\"Họ và tên: \", name)\n",
    "print(\"Địa chỉ: \", add)\n",
    "print(\"Tuổi: \", age)\n",
    "if sex == 0:\n",
    "    print(\"Giới tính: Nam\")\n",
    "else:\n",
    "    print(\"Giới tính: Nữ\")\n",
    "print(\"Loại đau ngực: \", chest_pain_type)\n",
    "print(\"Huyết áp khi nghỉ ngơi: \",resting_blood_pressure )\n",
    "print(\"Cholesterol huyết thanh tính bằng mg/dl:\",serum_cholestoral)\n",
    "print(\"Đường huyết lúc đói > 120 mg/dl: \",fasting_blood_sugar)\n",
    "print(\"Kết quả điện tâm đồ lúc nghỉ: \",resting_electrocardiographic_results)\n",
    "print(\"Nhịp tim tối đa đạt được: \", max_heart_rate)\n",
    "print(\"ST chênh xuống do gắng sức so với nghỉ ngơi:\",exercise_induced_angina )\n",
    "print(\"ST chênh xuống do gắng sức so với nghỉ ngơi: \",oldpeak)\n",
    "print(\"độ dốc của đoạn ST tập thể dục đỉnh: \",ST_segment)\n",
    "print(\"Số lượng mạch chính (0-3) được ánh xạ bằng phương pháp soi huỳnh quang: \",major_vessels)\n",
    "if thal in thal_mapping:\n",
    "    thal_description = thal_mapping[thal]\n",
    "    print(\"Thallium:\", thal_description)\n",
    "else:\n",
    "    print(\"Giá trị thal không hợp lệ\")\n",
    "print(\"------------------------------------------------------------------------------\")\n",
    "print(\"Chẩn đoán của bác sĩ Hồi quy\")\n",
    "if log_predictions[0] == 0:\n",
    "    print(\"Có khả năng không bị bệnh tim\")\n",
    "else:\n",
    "    print(\"Có khả năng bị bệnh tim\")\n",
    "print(\"------------------------------------------------------------------------------\")\n",
    "print(\"Chẩn đoán của bác sĩ Bay ét\")\n",
    "if nb_predictions[0] == 0:\n",
    "    print(\"Có khả năng không bị bệnh tim\")\n",
    "else:\n",
    "    print(\"Có khả năng bị bệnh tim\")"
   ]
  },
  {
   "cell_type": "code",
   "execution_count": null,
   "id": "74f576ff",
   "metadata": {},
   "outputs": [],
   "source": []
  }
 ],
 "metadata": {
  "kernelspec": {
   "display_name": "Python 3 (ipykernel)",
   "language": "python",
   "name": "python3"
  },
  "language_info": {
   "codemirror_mode": {
    "name": "ipython",
    "version": 3
   },
   "file_extension": ".py",
   "mimetype": "text/x-python",
   "name": "python",
   "nbconvert_exporter": "python",
   "pygments_lexer": "ipython3",
   "version": "3.9.7"
  }
 },
 "nbformat": 4,
 "nbformat_minor": 5
}
